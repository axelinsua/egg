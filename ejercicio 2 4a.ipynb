{
 "cells": [
  {
   "attachments": {},
   "cell_type": "markdown",
   "metadata": {},
   "source": [
    "#### 1. Crea un array con 15 números enteros aleatorios entre 1 y 100\n"
   ]
  },
  {
   "cell_type": "code",
   "execution_count": 23,
   "metadata": {},
   "outputs": [
    {
     "name": "stdout",
     "output_type": "stream",
     "text": [
      "[ 57  26  68  60  85 100  15  59  96  78  97  75  71   1  16]\n"
     ]
    }
   ],
   "source": [
    "import numpy as np\n",
    "array=np.random.randint(1,101,15,dtype=np.int16)\n",
    "print(array)"
   ]
  },
  {
   "attachments": {},
   "cell_type": "markdown",
   "metadata": {},
   "source": [
    "### 2. Multiplica todos los elementos del array usando un bucle y después usando un \n",
    "### método de numpy. Compara los resultados"
   ]
  },
  {
   "cell_type": "code",
   "execution_count": 30,
   "metadata": {},
   "outputs": [
    {
     "name": "stdout",
     "output_type": "stream",
     "text": [
      "1274530816\n",
      "1274530816\n",
      "[ 85  15  15 100  16  30  36  21  51  85  79  81  22  85   3]\n",
      "son iguales\n"
     ]
    },
    {
     "name": "stderr",
     "output_type": "stream",
     "text": [
      "C:\\Users\\Usuario\\AppData\\Local\\Temp\\ipykernel_3544\\3620877130.py:6: RuntimeWarning: overflow encountered in long_scalars\n",
      "  productobuc*=array[i]\n"
     ]
    }
   ],
   "source": [
    "import numpy as np\n",
    "array=np.random.randint(1,101,15,dtype=np.int16)\n",
    "productonp=np.prod(array)\n",
    "productobuc=1\n",
    "for i in range(len(array)):\n",
    "    productobuc*=array[i]\n",
    "print(productobuc)    \n",
    "print(productonp)\n",
    "print(array)\n",
    "if productonp==productobuc:\n",
    "    print('son iguales')\n",
    "else:\n",
    "    print('son distintos')"
   ]
  },
  {
   "attachments": {},
   "cell_type": "markdown",
   "metadata": {},
   "source": [
    "### 3. Crea otro array con 15 números decimales aleatorios entre 0 y 1"
   ]
  },
  {
   "cell_type": "code",
   "execution_count": 36,
   "metadata": {},
   "outputs": [
    {
     "name": "stdout",
     "output_type": "stream",
     "text": [
      "[0.71111752 0.36002679 0.30631851 0.91542603 0.51146996 0.41336281\n",
      " 0.3429372  0.41251876 0.07767289 0.70502388 0.94696414 0.41552187\n",
      " 0.64971    0.26754453 0.82504041]\n"
     ]
    }
   ],
   "source": [
    "import numpy as np\n",
    "array=np.random.random(15)\n",
    "print(array)"
   ]
  },
  {
   "attachments": {},
   "cell_type": "markdown",
   "metadata": {},
   "source": [
    "### 4. Suma los elementos de ambos arrays elementos por elemento. Resuélvelo usando un \n",
    "### operador y después con una función de numpy\n",
    "### (Pista: busca en google que función de numpy hace esto)"
   ]
  },
  {
   "cell_type": "code",
   "execution_count": 39,
   "metadata": {},
   "outputs": [
    {
     "name": "stdout",
     "output_type": "stream",
     "text": [
      "[31  6 62 23  3 65 92 71 30 75 13 78 83 21 23]\n",
      "[0.54052858 0.04731452 0.99038874 0.53847914 0.77006481 0.89396007\n",
      " 0.59610692 0.51161369 0.28460595 0.56821608 0.35663426 0.11905322\n",
      " 0.39774681 0.21976769 0.80649216]\n",
      "[31.54052858  6.04731452 62.99038874 23.53847914  3.77006481 65.89396007\n",
      " 92.59610692 71.51161369 30.28460595 75.56821608 13.35663426 78.11905322\n",
      " 83.39774681 21.21976769 23.80649216]\n",
      "[31.54052858  6.04731452 62.99038874 23.53847914  3.77006481 65.89396007\n",
      " 92.59610692 71.51161369 30.28460595 75.56821608 13.35663426 78.11905322\n",
      " 83.39774681 21.21976769 23.80649216]\n"
     ]
    }
   ],
   "source": [
    "import numpy as np\n",
    "array_randit=np.random.randint(1,101,15,dtype=np.int16)\n",
    "array_random=np.random.random(15)\n",
    "#operador\n",
    "sumarreyop=array_random+array_randit\n",
    "#numpy func\n",
    "sumarreynp=np.add(array_randit,array_random)\n",
    "\n",
    "print(array_randit)\n",
    "print(array_random)\n",
    "print(sumarreyop)\n",
    "print(sumarreynp)"
   ]
  },
  {
   "attachments": {},
   "cell_type": "markdown",
   "metadata": {},
   "source": [
    "### 5. Ahora réstalos. Resuélvelo usando un operador y después con una función de numpy\n",
    "### (Pista: busca en google que función de numpy hace esto)"
   ]
  },
  {
   "cell_type": "code",
   "execution_count": 1,
   "metadata": {},
   "outputs": [
    {
     "name": "stdout",
     "output_type": "stream",
     "text": [
      "[96 10 90 32 84 79 23 20 76 67 11 79 23 22 68]\n",
      "[0.78774939 0.0616144  0.02208434 0.8777112  0.911615   0.84810435\n",
      " 0.71817531 0.85231134 0.35022239 0.09454702 0.3740062  0.00772293\n",
      " 0.01812544 0.71797528 0.43269999]\n",
      "[95.21225061  9.9383856  89.97791566 31.1222888  83.088385   78.15189565\n",
      " 22.28182469 19.14768866 75.64977761 66.90545298 10.6259938  78.99227707\n",
      " 22.98187456 21.28202472 67.56730001]\n",
      "[95.21225061  9.9383856  89.97791566 31.1222888  83.088385   78.15189565\n",
      " 22.28182469 19.14768866 75.64977761 66.90545298 10.6259938  78.99227707\n",
      " 22.98187456 21.28202472 67.56730001]\n"
     ]
    }
   ],
   "source": [
    "import numpy as np\n",
    "array_randit=np.random.randint(1,101,15,dtype=np.int16)\n",
    "array_random=np.random.random(15)\n",
    "#operador\n",
    "restarreyop=array_randit-array_random\n",
    "#numpy func\n",
    "restarreynp=np.subtract(array_randit,array_random)\n",
    "\n",
    "print(array_randit)\n",
    "print(array_random)\n",
    "print(restarreyop)\n",
    "print(restarreynp)"
   ]
  },
  {
   "attachments": {},
   "cell_type": "markdown",
   "metadata": {},
   "source": [
    "### 6. Haz lo mismo con la multiplicación elemento por elemento. Usa un operador y \n",
    "### después con una función de numpy \n",
    "### (Pista: busca en google que función de numpy hace esto)"
   ]
  },
  {
   "cell_type": "code",
   "execution_count": 8,
   "metadata": {},
   "outputs": [
    {
     "name": "stdout",
     "output_type": "stream",
     "text": [
      "[ 3.55715642  5.90135278 15.94310037  0.54621335 76.3415971  52.18130865\n",
      " 13.067968   28.27666577 22.19465875 15.00179876 19.60051651  2.77359912\n",
      " 37.2573852  20.93491914 58.49419274]\n",
      "[ 3.55715642  5.90135278 15.94310037  0.54621335 76.3415971  52.18130865\n",
      " 13.067968   28.27666577 22.19465875 15.00179876 19.60051651  2.77359912\n",
      " 37.2573852  20.93491914 58.49419274]\n"
     ]
    }
   ],
   "source": [
    "import numpy as np\n",
    "array_randit = np.random.randint(1,101,15,dtype=np.int16)\n",
    "array_random = np.random.random(15)\n",
    "Arraymultbuc = np.zeros(15)\n",
    "\n",
    "#bucle\n",
    "for i in range(15):\n",
    "    Arraymultbuc[i]=array_randit[i]*array_random[i]\n",
    "#np\n",
    "arraymultnp=np.multiply(array_randit,array_random)\n",
    "print(Arraymultbuc)\n",
    "print(arraymultnp)\n",
    "    "
   ]
  },
  {
   "attachments": {},
   "cell_type": "markdown",
   "metadata": {},
   "source": [
    "### 7. Encuentra el valor más alto del primer array que has creado. "
   ]
  },
  {
   "cell_type": "code",
   "execution_count": 7,
   "metadata": {},
   "outputs": [
    {
     "name": "stdout",
     "output_type": "stream",
     "text": [
      "[28  6 89 23 28 21 55 34  7 70 49  6 67 51  1]\n",
      "89\n"
     ]
    }
   ],
   "source": [
    "import numpy as np\n",
    "array_randit = np.random.randint(1,101,15,dtype=np.int16)\n",
    "print(array_randit)\n",
    "print(max(array_randit))"
   ]
  },
  {
   "attachments": {},
   "cell_type": "markdown",
   "metadata": {},
   "source": [
    "### 8. Calcula la media (mean), la mediana (median) y al deviación estandar (standard \n",
    "### deviation) de los arrays (Nota: No nos importa el significado matemático de estos \n",
    "### valores, lo importante es que encuentres que función de numpy necesitas. Puedes \n",
    "### hacer la búsqueda en castellano o en inglés, aunque en inglés muchas veces suele \n",
    "### haber más resultados).\n"
   ]
  },
  {
   "cell_type": "code",
   "execution_count": null,
   "metadata": {},
   "outputs": [],
   "source": []
  }
 ],
 "metadata": {
  "kernelspec": {
   "display_name": "base",
   "language": "python",
   "name": "python3"
  },
  "language_info": {
   "codemirror_mode": {
    "name": "ipython",
    "version": 3
   },
   "file_extension": ".py",
   "mimetype": "text/x-python",
   "name": "python",
   "nbconvert_exporter": "python",
   "pygments_lexer": "ipython3",
   "version": "3.9.16"
  },
  "orig_nbformat": 4
 },
 "nbformat": 4,
 "nbformat_minor": 2
}
